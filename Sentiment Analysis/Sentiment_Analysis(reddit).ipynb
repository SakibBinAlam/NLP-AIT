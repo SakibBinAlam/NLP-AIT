{
  "cells": [
    {
      "cell_type": "code",
      "execution_count": 1,
      "id": "796aaabe-f86f-4f03-b528-b87f9a1aa919",
      "metadata": {
        "id": "796aaabe-f86f-4f03-b528-b87f9a1aa919"
      },
      "outputs": [],
      "source": [
        "import praw\n",
        "import pandas as pd"
      ]
    },
    {
      "cell_type": "markdown",
      "id": "4d6eb853-00ce-457a-8105-54feefa6d6bf",
      "metadata": {
        "id": "4d6eb853-00ce-457a-8105-54feefa6d6bf"
      },
      "source": [
        "# 1) Instance of Reddit"
      ]
    },
    {
      "cell_type": "code",
      "source": [
        "user_agent = \"Test_api\"\n",
        "\n",
        "# Instance of Reddit\n",
        "reddit = praw.Reddit(\n",
        "    client_id = \"elZ2l3hn14eVEVT2l1OXhg\",\n",
        "    client_secret=\"q8cPy2rIr5Msw2k0gARsUGmTNIzrDA\",\n",
        "    user_agent=user_agent,\n",
        "    check_for_async=False\n",
        ")"
      ],
      "metadata": {
        "id": "s9-ha2g54D-Z"
      },
      "id": "s9-ha2g54D-Z",
      "execution_count": 2,
      "outputs": []
    },
    {
      "cell_type": "markdown",
      "id": "cd25fafc-dc33-4ffb-97e7-5868973ac971",
      "metadata": {
        "id": "cd25fafc-dc33-4ffb-97e7-5868973ac971"
      },
      "source": [
        "# 2) Extracting Reddit posts for Subreddit \"iphone\""
      ]
    },
    {
      "cell_type": "code",
      "execution_count": 3,
      "id": "4fc9846b-ee5c-49d4-a5cc-058e4cd9b5a1",
      "metadata": {
        "colab": {
          "base_uri": "https://localhost:8080/"
        },
        "id": "4fc9846b-ee5c-49d4-a5cc-058e4cd9b5a1",
        "outputId": "ba4f191c-6719-49d6-c6aa-dbd535b0fb99"
      },
      "outputs": [
        {
          "output_type": "stream",
          "name": "stdout",
          "text": [
            "iphone\n"
          ]
        }
      ],
      "source": [
        "subreddit_name = \"iphone\"\n",
        "subreddit = reddit.subreddit(subreddit_name)\n",
        "\n",
        "print(subreddit.display_name)"
      ]
    },
    {
      "cell_type": "code",
      "execution_count": 4,
      "id": "07e853bc-8fac-4a1f-aae2-12537e072651",
      "metadata": {
        "id": "07e853bc-8fac-4a1f-aae2-12537e072651"
      },
      "outputs": [],
      "source": [
        "titles=[]\n",
        "scores=[]\n",
        "ids=[]\n",
        "\n",
        "for submission in subreddit.top(limit=50):\n",
        "    titles.append(submission.title)\n",
        "    scores.append(submission.score) #upvotes\n",
        "    ids.append(submission.id)\n"
      ]
    },
    {
      "cell_type": "code",
      "execution_count": 5,
      "id": "5a1dc030-4414-41d6-b0cd-2f6d71d6f56c",
      "metadata": {
        "id": "5a1dc030-4414-41d6-b0cd-2f6d71d6f56c",
        "outputId": "75b5631d-8479-4ed7-bb33-fa22498f4db9",
        "colab": {
          "base_uri": "https://localhost:8080/"
        }
      },
      "outputs": [
        {
          "output_type": "stream",
          "name": "stdout",
          "text": [
            "                                     Title      Id  Upvotes\n",
            "0                   Now you can cook on it  d2cg5w    47491\n",
            "1  Just got my first iPhone for Christmas!  a9z7or    44085\n",
            "2          Apple CarPlay volume control UI  8dq472    43377\n",
            "3           Wait I’ve seen this one before  jch6yj    37010\n",
            "4              How rotation lock should be  b2ovab    26497\n"
          ]
        }
      ],
      "source": [
        "df = pd.DataFrame()\n",
        "\n",
        "df['Title'] = titles\n",
        "df['Id'] = ids\n",
        "df['Upvotes'] = scores #upvotes\n",
        "\n",
        "print(df.head())"
      ]
    },
    {
      "cell_type": "markdown",
      "id": "14751166-3a0c-4fd7-8f6d-85ea2a127216",
      "metadata": {
        "id": "14751166-3a0c-4fd7-8f6d-85ea2a127216"
      },
      "source": [
        "# 3) Preprocessing"
      ]
    },
    {
      "cell_type": "code",
      "execution_count": 6,
      "id": "7381709c-141c-4837-a911-929c7d410dab",
      "metadata": {
        "id": "7381709c-141c-4837-a911-929c7d410dab",
        "outputId": "56b8cb3e-7075-460c-b53a-52af40c2e7e2",
        "colab": {
          "base_uri": "https://localhost:8080/"
        }
      },
      "outputs": [
        {
          "output_type": "execute_result",
          "data": {
            "text/plain": [
              "<torch._C.Generator at 0x7f714265de70>"
            ]
          },
          "metadata": {},
          "execution_count": 6
        }
      ],
      "source": [
        "import torch, torchdata, torchtext\n",
        "from torch import nn\n",
        "\n",
        "SEED = 1234\n",
        "torch.manual_seed(SEED)"
      ]
    },
    {
      "cell_type": "code",
      "execution_count": 7,
      "id": "e93af077-4273-492e-b7f2-39eee2cc5fa1",
      "metadata": {
        "id": "e93af077-4273-492e-b7f2-39eee2cc5fa1"
      },
      "outputs": [],
      "source": [
        "device = torch.device('cuda' if torch.cuda.is_available() else 'cpu')"
      ]
    },
    {
      "cell_type": "code",
      "execution_count": 8,
      "id": "9703c40e-f4fe-4121-9051-f4336926a848",
      "metadata": {
        "id": "9703c40e-f4fe-4121-9051-f4336926a848"
      },
      "outputs": [],
      "source": [
        "from torchtext.datasets import SST2\n",
        "train = SST2(split='train')"
      ]
    },
    {
      "cell_type": "code",
      "execution_count": 10,
      "id": "13e32f02-1f28-4f45-a236-c08e54554528",
      "metadata": {
        "id": "13e32f02-1f28-4f45-a236-c08e54554528"
      },
      "outputs": [],
      "source": [
        "from torchtext.data.utils import get_tokenizer\n",
        "\n",
        "tokenizer = get_tokenizer('spacy', language='en_core_web_md')"
      ]
    },
    {
      "cell_type": "code",
      "execution_count": 11,
      "id": "251b36d6-7c21-42b8-a66f-8fb22566e33d",
      "metadata": {
        "id": "251b36d6-7c21-42b8-a66f-8fb22566e33d"
      },
      "outputs": [],
      "source": [
        "from torchtext.vocab import build_vocab_from_iterator\n",
        "\n",
        "def yield_tokens(data_iter):  #data_iter, e.g., train\n",
        "    for text, _  in data_iter:\n",
        "        yield tokenizer(text)\n",
        "        \n",
        "vocab = build_vocab_from_iterator(yield_tokens(train), specials=['<unk>', '<pad>',\n",
        "                                                                 '<bos>', '<eos>'])"
      ]
    },
    {
      "cell_type": "code",
      "execution_count": 12,
      "id": "82b61051-9dbb-419c-a987-3206beb4c1e2",
      "metadata": {
        "id": "82b61051-9dbb-419c-a987-3206beb4c1e2"
      },
      "outputs": [],
      "source": [
        "vocab.set_default_index(vocab[\"<unk>\"]) "
      ]
    },
    {
      "cell_type": "code",
      "execution_count": 13,
      "id": "5e93d809-25ef-42e2-9948-38569af9d7d3",
      "metadata": {
        "id": "5e93d809-25ef-42e2-9948-38569af9d7d3"
      },
      "outputs": [],
      "source": [
        "id2word = vocab.get_itos()"
      ]
    },
    {
      "cell_type": "code",
      "execution_count": 14,
      "id": "34fe3a97-fe47-4375-a4fc-f4d38527b9e4",
      "metadata": {
        "id": "34fe3a97-fe47-4375-a4fc-f4d38527b9e4"
      },
      "outputs": [],
      "source": [
        "pad_idx = vocab['<pad>']"
      ]
    },
    {
      "cell_type": "code",
      "execution_count": 15,
      "id": "d6b1e9af-7dc5-4baa-89d0-9127734973f0",
      "metadata": {
        "id": "d6b1e9af-7dc5-4baa-89d0-9127734973f0"
      },
      "outputs": [],
      "source": [
        "text_pipeline  = lambda x: vocab(tokenizer(x))\n",
        "label_pipeline = lambda x: int(x)"
      ]
    },
    {
      "cell_type": "markdown",
      "id": "bcd3269c-1ac9-48f0-9135-9f0455c5317f",
      "metadata": {
        "id": "bcd3269c-1ac9-48f0-9135-9f0455c5317f"
      },
      "source": [
        "## 4. Designing the model"
      ]
    },
    {
      "cell_type": "code",
      "execution_count": 16,
      "id": "0176cf94-9828-4383-8e35-e33367441876",
      "metadata": {
        "id": "0176cf94-9828-4383-8e35-e33367441876"
      },
      "outputs": [],
      "source": [
        "class LSTM(nn.Module):\n",
        "    \n",
        "    def __init__(self, input_dim, emb_dim, hid_dim, output_dim, num_layers, bidirectional, \n",
        "                 dropout):\n",
        "        super().__init__()\n",
        "        #input dim = how many vocab you have\n",
        "        #emb dim = 300 --> we use fasttext\n",
        "        #padding_idx tells this lookup table to ignore, and just randomize....\n",
        "        #<unk>, <bos>, <eos>\n",
        "        self.embedding_layer = nn.Embedding(input_dim, emb_dim, padding_idx=pad_idx)\n",
        "        self.lstm            = nn.LSTM(emb_dim,\n",
        "                                       hid_dim,\n",
        "                                       num_layers = num_layers,\n",
        "                                       bidirectional = bidirectional,\n",
        "                                       dropout = dropout,  #dropout is applied between layers....\n",
        "                                       batch_first=True)\n",
        "        \n",
        "        self.fc              = nn.Linear(hid_dim * 2, output_dim)\n",
        "        \n",
        "    def forward(self, x, lengths):\n",
        "        #x: [batch size, seq len]\n",
        "        \n",
        "        embedded_x = self.embedding_layer(x)\n",
        "        #x: [batch size, seq len, emb dim]\n",
        "        \n",
        "        #pack this embedded_x in such a way that RNN knows to ignore padding....\n",
        "        #without batch_first = True; things will become [seq len, batch size, emb dim]\n",
        "        pack_embedded = nn.utils.rnn.pack_padded_sequence(embedded_x, lengths.to('cpu'),\n",
        "                                                          enforce_sorted=False,\n",
        "                                                          batch_first = True\n",
        "                                                          )\n",
        "        \n",
        "        #packed_outputs is basically all hidden states\n",
        "        #h is the last hidden state\n",
        "        #c is the last cell state\n",
        "        packed_outputs, (h, _) = self.lstm(pack_embedded)\n",
        "        \n",
        "        #h: [num_layers * num_directions, batch_size, hidden dim]\n",
        "        \n",
        "        #it happens that because packed_outputs is all hidden states....some hidden states near the end is\n",
        "        #hidden state for padding, pytorch guys help you\n",
        "        #by using this pad_packed_sequence, then all the hidden states will only be not padding....\n",
        "        output, output_lengths = nn.utils.rnn.pad_packed_sequence(packed_outputs, batch_first = True)\n",
        "        #output: [batch size, seq len, direction * hidden sim]\n",
        "        \n",
        "        #last hidden state - concat last forward and backward states\n",
        "        last_hidden_state = torch.cat((h[-1, :, :], h[-2, :, :]), dim = 1)\n",
        "        #last_hidden_state: [batch_size, hidden_dim * 2]\n",
        "        \n",
        "        #for sentiment analysis.....what should i sent to my linear layer...\n",
        "        return self.fc(last_hidden_state)  #[batch_size, output_dim]==> [batch_size, 4]"
      ]
    },
    {
      "cell_type": "code",
      "execution_count": 21,
      "id": "5da9254b-b49f-4915-824b-b85c79f69178",
      "metadata": {
        "id": "5da9254b-b49f-4915-824b-b85c79f69178"
      },
      "outputs": [],
      "source": [
        "input_dim  = 13844\n",
        "hid_dim    = 256\n",
        "emb_dim    = 300\n",
        "output_dim = 2\n",
        "\n",
        "#for biLSTM\n",
        "num_layers = 2\n",
        "bidirectional = True\n",
        "dropout = 0.2\n",
        "\n",
        "model = LSTM(input_dim, emb_dim, hid_dim, output_dim, num_layers, bidirectional, dropout).to(device)"
      ]
    },
    {
      "cell_type": "markdown",
      "id": "441fe990-db5a-42d9-8272-3e79a3aaa3b1",
      "metadata": {
        "id": "441fe990-db5a-42d9-8272-3e79a3aaa3b1"
      },
      "source": [
        "## 5. Loading Trainned Model"
      ]
    },
    {
      "cell_type": "code",
      "execution_count": 22,
      "id": "62e2085e-b22a-4e64-b3df-6b1389065af9",
      "metadata": {
        "id": "62e2085e-b22a-4e64-b3df-6b1389065af9"
      },
      "outputs": [],
      "source": [
        "path = f'{model.__class__.__name__}.pt'"
      ]
    },
    {
      "cell_type": "code",
      "execution_count": 23,
      "id": "ab5f8dee-ff8f-48a1-b2f0-2379618ea37a",
      "metadata": {
        "id": "ab5f8dee-ff8f-48a1-b2f0-2379618ea37a",
        "outputId": "218a6e17-e03c-4d4f-c4d4-d2a34d4e4e04",
        "colab": {
          "base_uri": "https://localhost:8080/"
        }
      },
      "outputs": [
        {
          "output_type": "execute_result",
          "data": {
            "text/plain": [
              "<All keys matched successfully>"
            ]
          },
          "metadata": {},
          "execution_count": 23
        }
      ],
      "source": [
        "model.load_state_dict(torch.load(path, map_location=torch.device('cpu')))"
      ]
    },
    {
      "cell_type": "code",
      "execution_count": 24,
      "id": "782109f8-8dd9-49ae-986c-3eea2d1d5ec9",
      "metadata": {
        "id": "782109f8-8dd9-49ae-986c-3eea2d1d5ec9"
      },
      "outputs": [],
      "source": [
        "if next(model.parameters()).is_cuda:\n",
        "    model = model.cpu()"
      ]
    },
    {
      "cell_type": "markdown",
      "id": "38d51ddb-8f08-461b-97c9-75932a2e73bc",
      "metadata": {
        "id": "38d51ddb-8f08-461b-97c9-75932a2e73bc"
      },
      "source": [
        "# 6) Test posts and respective sentiment"
      ]
    },
    {
      "cell_type": "code",
      "execution_count": 25,
      "id": "d975f5cd-dba2-42f5-9bfe-15d22096d6cb",
      "metadata": {
        "id": "d975f5cd-dba2-42f5-9bfe-15d22096d6cb"
      },
      "outputs": [],
      "source": [
        "def predict(text, text_length):\n",
        "    with torch.no_grad():\n",
        "        output = model(text, text_length).squeeze(1)\n",
        "        predicted = torch.max(output.data, 1)[1]\n",
        "        return predicted"
      ]
    },
    {
      "cell_type": "code",
      "execution_count": 26,
      "id": "c44ebd70-d892-4055-b075-ccef7e32e7e2",
      "metadata": {
        "id": "c44ebd70-d892-4055-b075-ccef7e32e7e2"
      },
      "outputs": [],
      "source": [
        "sentiment = []\n",
        "\n",
        "for title in titles:\n",
        "    text = torch.tensor(text_pipeline(title))\n",
        "    text = text.reshape(1, -1)\n",
        "    text_length = torch.tensor([text.size(1)]).to(dtype=torch.int64)\n",
        "    senti_pred = predict(text, text_length)\n",
        "    sentiment.append(int(senti_pred[0]))"
      ]
    },
    {
      "cell_type": "code",
      "execution_count": 27,
      "id": "579a8a72-e15f-44fc-a0e4-724c16fc652b",
      "metadata": {
        "id": "579a8a72-e15f-44fc-a0e4-724c16fc652b",
        "outputId": "765f0495-1a82-494b-b02a-d99cdf1bcf1f",
        "colab": {
          "base_uri": "https://localhost:8080/"
        }
      },
      "outputs": [
        {
          "output_type": "stream",
          "name": "stdout",
          "text": [
            "                                                Title  Sentiment\n",
            "0                              Now you can cook on it          0\n",
            "1             Just got my first iPhone for Christmas!          1\n",
            "2                     Apple CarPlay volume control UI          1\n",
            "3                      Wait I’ve seen this one before          0\n",
            "4                         How rotation lock should be          1\n",
            "5               Finally got my first pair of AirPods!          1\n",
            "6                             A lil humor on a Monday          0\n",
            "7   Let's appreciate Apple for making distinctive ...          0\n",
            "8                           It do be like that though          0\n",
            "9   Friend turned on his phone for the first time ...          0\n",
            "10                               The best iOS feature          0\n",
            "11                                Stole it from apple          1\n",
            "12                                       iPhone X-ray          0\n",
            "13                     Here is the new iPhone Lineup.          0\n",
            "14                               New Vs Old packaging          0\n",
            "15  Turned my old and slow iPhone 4 into fast ultr...          0\n",
            "16              Redesigned Volume Control Confirmed!!          0\n",
            "17                          We have come full circle.          1\n",
            "18  Using FaceId to unlock my phone when it’s sitt...          0\n",
            "19                      This feature is so underrated          1\n",
            "20             My concept for a new volume UI for iOS          1\n",
            "21                       How the volume HUD should be          1\n",
            "22  I would have preferred this approach with the ...          0\n",
            "23  Christmas present me and my brother made for o...          0\n",
            "24                         Who else does this bother?          1\n",
            "25  After less than a month of sporadic use with m...          0\n",
            "26                      I did a thing with Live Photo          0\n",
            "27                    That’s a nice iOS you got there          0\n",
            "28                           The Evolution of Earbuds          0\n",
            "29  I will defend apple for a lot of things, but c...          0\n",
            "30  No offense to Android users, but I thought thi...          0\n",
            "31  A year ago my iPhone 6 was stolen, then a week...          0\n",
            "32  When Face ID worked perfectly, and when it failed          0\n",
            "33             What happens when you mismatch AirPods          0\n",
            "34                                 Hmmm 🤔 interesting          0\n",
            "35  My iPhone 12 Pro case came without speaker hol...          0\n",
            "36                                              True!          1\n",
            "37                           These are all Space Gray          0\n",
            "38  Apple Glass...2021 could be a revolutionary ye...          0\n",
            "39            No update will ever beat iOS 6 to iOS 7          0\n",
            "40                                 The good old days.          1\n",
            "41                           Easiest way to save $159          1\n",
            "42             Apple support getting all gooey on me.          0\n",
            "43  I fixed iOS 13's new volume indicator to be mo...          0\n",
            "44  I felt the back of the new phones should match...          0\n",
            "45                          This is pretty incredible          1\n",
            "46                      I'm posting this from Android          0\n",
            "47  Kuo: iPhone 12 Models Won't Include Charger in...          0\n",
            "48  After 50+ days I FINALLY found my final Christ...          0\n",
            "49                   iOS 11.2.1: Now predicting texts          0\n"
          ]
        }
      ],
      "source": [
        "pred = pd.DataFrame()\n",
        "\n",
        "pred['Title'] = titles\n",
        "pred['Sentiment'] = sentiment\n",
        "\n",
        "print(pred)"
      ]
    },
    {
      "cell_type": "code",
      "execution_count": null,
      "id": "38a04d15-8458-445f-be1b-75fb9a0788ff",
      "metadata": {
        "id": "38a04d15-8458-445f-be1b-75fb9a0788ff"
      },
      "outputs": [],
      "source": []
    },
    {
      "cell_type": "markdown",
      "id": "7c12d8b1-9f41-4a46-bbe5-0d8c279939d2",
      "metadata": {
        "id": "7c12d8b1-9f41-4a46-bbe5-0d8c279939d2"
      },
      "source": [
        "### Plot of positive and negative posts count"
      ]
    },
    {
      "cell_type": "code",
      "execution_count": 28,
      "id": "36c7dfe7-8639-4600-8af6-fa64775452ff",
      "metadata": {
        "id": "36c7dfe7-8639-4600-8af6-fa64775452ff"
      },
      "outputs": [],
      "source": [
        "import matplotlib.pyplot as plt"
      ]
    },
    {
      "cell_type": "code",
      "execution_count": 29,
      "id": "6bc9700b-df38-46a5-828b-b51e6a8b32ac",
      "metadata": {
        "id": "6bc9700b-df38-46a5-828b-b51e6a8b32ac"
      },
      "outputs": [],
      "source": [
        "sentiment_count = {\"positive\": 0, \"negative\": 0}\n",
        "for senti in sentiment:\n",
        "    if senti == 1:\n",
        "        sentiment_count[\"positive\"] += 1\n",
        "    else:\n",
        "        sentiment_count[\"negative\"] += 1"
      ]
    },
    {
      "cell_type": "code",
      "execution_count": 30,
      "id": "dd468e01-7e61-4a11-879b-ce1cbf5c634e",
      "metadata": {
        "id": "dd468e01-7e61-4a11-879b-ce1cbf5c634e",
        "outputId": "d12f1103-9182-4f18-a579-fa3befed7d9f",
        "colab": {
          "base_uri": "https://localhost:8080/",
          "height": 282
        }
      },
      "outputs": [
        {
          "output_type": "execute_result",
          "data": {
            "text/plain": [
              "<BarContainer object of 2 artists>"
            ]
          },
          "metadata": {},
          "execution_count": 30
        },
        {
          "output_type": "display_data",
          "data": {
            "text/plain": [
              "<Figure size 432x288 with 1 Axes>"
            ],
            "image/png": "[encoded data removed]"
          },
          "metadata": {
            "needs_background": "light"
          }
        }
      ],
      "source": [
        "labels = list(sentiment_count.keys())\n",
        "count  = list(sentiment_count.values())\n",
        "\n",
        "plt.bar(labels, count)"
      ]
    },
    {
      "cell_type": "code",
      "execution_count": 30,
      "id": "82751780-b808-4125-87b0-76ffdce9be5d",
      "metadata": {
        "id": "82751780-b808-4125-87b0-76ffdce9be5d"
      },
      "outputs": [],
      "source": []
    },
    {
      "cell_type": "markdown",
      "id": "92646193-b95b-42d4-bc07-2e859607516b",
      "metadata": {
        "id": "92646193-b95b-42d4-bc07-2e859607516b"
      },
      "source": [
        "### Top words inside positive and negative posts"
      ]
    },
    {
      "cell_type": "code",
      "execution_count": 31,
      "id": "531adbdd-42bb-4384-ab79-f0808ff2c790",
      "metadata": {
        "id": "531adbdd-42bb-4384-ab79-f0808ff2c790"
      },
      "outputs": [],
      "source": [
        "pos_word_count = {}\n",
        "neg_word_count = {}\n",
        "\n",
        "def incr_word_count(text, word_count):\n",
        "    if text in word_count:\n",
        "        word_count[text] += 1\n",
        "    else:\n",
        "        word_count[text] = 1\n",
        "\n",
        "for idx in range(len(pred)):\n",
        "    text_list  = tokenizer(pred[\"Title\"][idx])\n",
        "    senti_pred = pred[\"Sentiment\"][idx]\n",
        "    \n",
        "    for text in text_list:\n",
        "        text = text.lower()\n",
        "        \n",
        "        if senti_pred == 1:\n",
        "            incr_word_count(text, pos_word_count)\n",
        "        elif senti_pred == 0:\n",
        "            incr_word_count(text, neg_word_count)"
      ]
    },
    {
      "cell_type": "code",
      "execution_count": 32,
      "id": "37c499f1-de83-4d33-a642-126ca4e1cf33",
      "metadata": {
        "id": "37c499f1-de83-4d33-a642-126ca4e1cf33"
      },
      "outputs": [],
      "source": [
        "sorted_pos_word_count = dict(sorted(pos_word_count.items(), key=lambda item: item[1]))"
      ]
    },
    {
      "cell_type": "code",
      "execution_count": 33,
      "id": "1571b0ba-9e03-4eba-b7af-5849ed004f75",
      "metadata": {
        "id": "1571b0ba-9e03-4eba-b7af-5849ed004f75"
      },
      "outputs": [],
      "source": [
        "sorted_neg_word_count = dict(sorted(neg_word_count.items(), key=lambda item: item[1]))"
      ]
    },
    {
      "cell_type": "code",
      "execution_count": 34,
      "id": "527a5463-7f8a-408a-86d4-c3a9491bbbbe",
      "metadata": {
        "id": "527a5463-7f8a-408a-86d4-c3a9491bbbbe",
        "outputId": "ace3fa4c-21cc-4d55-926c-b6b77ea06ac7",
        "colab": {
          "base_uri": "https://localhost:8080/"
        }
      },
      "outputs": [
        {
          "output_type": "stream",
          "name": "stdout",
          "text": [
            "Top words inside positive posts:\n",
            "['my', 'for', '!', 'volume', 'this']\n"
          ]
        }
      ],
      "source": [
        "print(\"Top words inside positive posts:\")\n",
        "print(list(sorted_pos_word_count.keys())[-5:])"
      ]
    },
    {
      "cell_type": "code",
      "execution_count": 35,
      "id": "7478cd49-c4f4-450d-b0f4-44ee5640efa4",
      "metadata": {
        "id": "7478cd49-c4f4-450d-b0f4-44ee5640efa4",
        "outputId": "5b5af611-0c47-4e08-9aeb-51bfe68d3600",
        "colab": {
          "base_uri": "https://localhost:8080/"
        }
      },
      "outputs": [
        {
          "output_type": "stream",
          "name": "stdout",
          "text": [
            "Top words inside negative posts:\n",
            "['iphone', '.', 'i', 'the', 'a']\n"
          ]
        }
      ],
      "source": [
        "print(\"Top words inside negative posts:\")\n",
        "print(list(sorted_neg_word_count.keys())[-5:])"
      ]
    },
    {
      "cell_type": "code",
      "execution_count": null,
      "id": "20f6da29-93ff-4686-9de4-037635b9c0d0",
      "metadata": {
        "id": "20f6da29-93ff-4686-9de4-037635b9c0d0"
      },
      "outputs": [],
      "source": []
    }
  ],
  "metadata": {
    "kernelspec": {
      "display_name": "Python 3 (ipykernel)",
      "language": "python",
      "name": "python3"
    },
    "language_info": {
      "codemirror_mode": {
        "name": "ipython",
        "version": 3
      },
      "file_extension": ".py",
      "mimetype": "text/x-python",
      "name": "python",
      "nbconvert_exporter": "python",
      "pygments_lexer": "ipython3",
      "version": "3.9.16"
    },
    "colab": {
      "provenance": []
    },
    "accelerator": "GPU",
    "gpuClass": "standard"
  },
  "nbformat": 4,
  "nbformat_minor": 5
}