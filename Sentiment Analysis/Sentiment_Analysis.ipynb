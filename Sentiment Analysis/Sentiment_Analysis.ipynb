{
  "nbformat": 4,
  "nbformat_minor": 0,
  "metadata": {
    "colab": {
      "provenance": []
    },
    "kernelspec": {
      "name": "python3",
      "display_name": "Python 3"
    },
    "language_info": {
      "name": "python"
    },
    "accelerator": "GPU",
    "gpuClass": "standard"
  },
  "cells": [
    {
      "cell_type": "code",
      "execution_count": 1,
      "metadata": {
        "colab": {
          "base_uri": "https://localhost:8080/"
        },
        "id": "DB4gfZMOXUwk",
        "outputId": "016690b1-8022-4546-fad3-9e95778b76e5"
      },
      "outputs": [
        {
          "output_type": "stream",
          "name": "stdout",
          "text": [
            "cuda\n"
          ]
        }
      ],
      "source": [
        "import torch, torchdata, torchtext\n",
        "from torch import nn\n",
        "\n",
        "import time\n",
        "\n",
        "#1. puffer - it's outdated....\n",
        "#2. spend some money - 300 baht get collab pro\n",
        "\n",
        "device = torch.device('cuda' if torch.cuda.is_available() else 'cpu')\n",
        "print(device)\n",
        "\n",
        "#reproducibility \n",
        "SEED = 1234\n",
        "torch.manual_seed(SEED)\n",
        "torch.backends.cudnn.deterministic = True"
      ]
    },
    {
      "cell_type": "markdown",
      "source": [
        "# 1. Loading Dataset"
      ],
      "metadata": {
        "id": "JCUdS2wadDtK"
      }
    },
    {
      "cell_type": "code",
      "source": [
        "from torchtext.datasets import SST2\n",
        "\n",
        "train = SST2(split='train')\n",
        "test = SST2(split='dev')"
      ],
      "metadata": {
        "id": "Sq5FVFs1dUk6"
      },
      "execution_count": 2,
      "outputs": []
    },
    {
      "cell_type": "markdown",
      "source": [
        "#2. EDA"
      ],
      "metadata": {
        "id": "GAgbxv2rf12A"
      }
    },
    {
      "cell_type": "code",
      "source": [
        "# let's take a look at one example of train\n",
        "next(iter(train))"
      ],
      "metadata": {
        "colab": {
          "base_uri": "https://localhost:8080/"
        },
        "id": "qem9gujof8mi",
        "outputId": "bfccfac6-d7f2-4712-f052-b5526ffc7693"
      },
      "execution_count": 3,
      "outputs": [
        {
          "output_type": "execute_result",
          "data": {
            "text/plain": [
              "('hide new secretions from the parental units', 0)"
            ]
          },
          "metadata": {},
          "execution_count": 3
        }
      ]
    },
    {
      "cell_type": "code",
      "source": [
        "# labels\n",
        "set([y for x, y in list(iter(train))])"
      ],
      "metadata": {
        "colab": {
          "base_uri": "https://localhost:8080/"
        },
        "id": "5rhAILWMgfKA",
        "outputId": "bc8f0d7f-0ece-42e5-927d-c6251c839935"
      },
      "execution_count": 4,
      "outputs": [
        {
          "output_type": "execute_result",
          "data": {
            "text/plain": [
              "{0, 1}"
            ]
          },
          "metadata": {},
          "execution_count": 4
        }
      ]
    },
    {
      "cell_type": "code",
      "source": [
        "train_size = len(list(iter(train)))\n",
        "train_size"
      ],
      "metadata": {
        "colab": {
          "base_uri": "https://localhost:8080/"
        },
        "id": "a7yrADanhYJs",
        "outputId": "aa242c4d-096d-40b5-beb3-7b8316442d20"
      },
      "execution_count": 5,
      "outputs": [
        {
          "output_type": "execute_result",
          "data": {
            "text/plain": [
              "67349"
            ]
          },
          "metadata": {},
          "execution_count": 5
        }
      ]
    },
    {
      "cell_type": "code",
      "source": [
        "train, val = train.random_split(total_length=train_size, \n",
        "                                            weights = {\"train\": 0.90, \n",
        "                                                       \"val\": 0.10},\n",
        "                                            seed = SEED)"
      ],
      "metadata": {
        "id": "qLzqBR0Vg4pm"
      },
      "execution_count": 6,
      "outputs": []
    },
    {
      "cell_type": "code",
      "source": [
        "train_size = len(list(iter(train)))\n",
        "val_size   = len(list(iter(val)))\n",
        "test_size  = len(list(iter(test)))"
      ],
      "metadata": {
        "id": "s76dtqPWhlDe"
      },
      "execution_count": 7,
      "outputs": []
    },
    {
      "cell_type": "code",
      "source": [
        "train_size, val_size, test_size"
      ],
      "metadata": {
        "colab": {
          "base_uri": "https://localhost:8080/"
        },
        "id": "JziRI--jhoPT",
        "outputId": "8cc357ce-9251-40d8-97e7-e3dc9a411b6f"
      },
      "execution_count": 8,
      "outputs": [
        {
          "output_type": "execute_result",
          "data": {
            "text/plain": [
              "(60614, 6735, 872)"
            ]
          },
          "metadata": {},
          "execution_count": 8
        }
      ]
    },
    {
      "cell_type": "markdown",
      "source": [
        "# 3. Preprocessing"
      ],
      "metadata": {
        "id": "y1jIY2Emhr_R"
      }
    },
    {
      "cell_type": "code",
      "source": [
        "from torchtext.data.utils import get_tokenizer\n",
        "\n",
        "tokenizer = get_tokenizer('spacy', language='en_core_web_md')"
      ],
      "metadata": {
        "id": "qP6GFUE8h0UG"
      },
      "execution_count": 10,
      "outputs": []
    },
    {
      "cell_type": "code",
      "source": [
        "from torchtext.vocab import build_vocab_from_iterator\n",
        "\n",
        "def yield_tokens(data_iter):  #data_iter, e.g., train\n",
        "    for text, _  in data_iter:\n",
        "        yield tokenizer(text)\n",
        "        \n",
        "vocab = build_vocab_from_iterator(yield_tokens(train), specials=['<unk>', '<pad>',\n",
        "                                                                 '<bos>', '<eos>'])"
      ],
      "metadata": {
        "id": "Xtc0h3dMjq1E"
      },
      "execution_count": 11,
      "outputs": []
    },
    {
      "cell_type": "code",
      "source": [
        "vocab.set_default_index(vocab[\"<unk>\"]) "
      ],
      "metadata": {
        "id": "0mlK1VlIl5fe"
      },
      "execution_count": 12,
      "outputs": []
    },
    {
      "cell_type": "code",
      "source": [
        "#see some example\n",
        "vocab(['here', 'is', 'a', 'unknownword', 'a'])"
      ],
      "metadata": {
        "colab": {
          "base_uri": "https://localhost:8080/"
        },
        "id": "w27FJbiGl8-3",
        "outputId": "2ebafc68-46d6-410a-a831-5a49195522dd"
      },
      "execution_count": 13,
      "outputs": [
        {
          "output_type": "execute_result",
          "data": {
            "text/plain": [
              "[235, 13, 6, 0, 6]"
            ]
          },
          "metadata": {},
          "execution_count": 13
        }
      ]
    },
    {
      "cell_type": "code",
      "source": [
        "id2word = vocab.get_itos()"
      ],
      "metadata": {
        "id": "x3rE6St2mGhO"
      },
      "execution_count": 14,
      "outputs": []
    },
    {
      "cell_type": "code",
      "source": [
        "id2word[0], id2word[5]"
      ],
      "metadata": {
        "colab": {
          "base_uri": "https://localhost:8080/"
        },
        "id": "pPS4nQ1-mJoq",
        "outputId": "6aa40a53-acb7-49c9-b4ca-c28f1091cd44"
      },
      "execution_count": 15,
      "outputs": [
        {
          "output_type": "execute_result",
          "data": {
            "text/plain": [
              "('<unk>', ',')"
            ]
          },
          "metadata": {},
          "execution_count": 15
        }
      ]
    },
    {
      "cell_type": "code",
      "source": [
        "vocab(['<pad>', '<bos>', '<eos>'])"
      ],
      "metadata": {
        "colab": {
          "base_uri": "https://localhost:8080/"
        },
        "id": "kkEJAhjJmUom",
        "outputId": "408ae5d4-c002-4c21-a741-5bf192ec12b8"
      },
      "execution_count": 16,
      "outputs": [
        {
          "output_type": "execute_result",
          "data": {
            "text/plain": [
              "[1, 2, 3]"
            ]
          },
          "metadata": {},
          "execution_count": 16
        }
      ]
    },
    {
      "cell_type": "code",
      "source": [
        "len(vocab)"
      ],
      "metadata": {
        "colab": {
          "base_uri": "https://localhost:8080/"
        },
        "id": "nl4dYen8mXpd",
        "outputId": "5db005ed-1117-4356-c36a-08b264e2c676"
      },
      "execution_count": 17,
      "outputs": [
        {
          "output_type": "execute_result",
          "data": {
            "text/plain": [
              "13844"
            ]
          },
          "metadata": {},
          "execution_count": 17
        }
      ]
    },
    {
      "cell_type": "markdown",
      "source": [
        "# 4. FastTextEmbedding"
      ],
      "metadata": {
        "id": "j7isxLYNmaWy"
      }
    },
    {
      "cell_type": "code",
      "source": [
        "from torchtext.vocab import FastText\n",
        "fast_vectors = FastText(language='simple')\n",
        "fast_embedding = fast_vectors.get_vecs_by_tokens(vocab.get_itos()).to(device)"
      ],
      "metadata": {
        "colab": {
          "base_uri": "https://localhost:8080/"
        },
        "id": "6K6AW2d8mgk5",
        "outputId": "8da163f3-a98f-4cc5-c950-dcb132a5779d"
      },
      "execution_count": 18,
      "outputs": [
        {
          "output_type": "stream",
          "name": "stderr",
          "text": [
            ".vector_cache/wiki.simple.vec: 293MB [00:09, 31.2MB/s]                           \n",
            "  0%|          | 0/111051 [00:00<?, ?it/s]WARNING:torchtext.vocab.vectors:Skipping token b'111051' with 1-dimensional vector [b'300']; likely a header\n",
            "100%|██████████| 111051/111051 [00:11<00:00, 9271.15it/s] \n"
          ]
        }
      ]
    },
    {
      "cell_type": "code",
      "source": [
        "fast_embedding.shape"
      ],
      "metadata": {
        "colab": {
          "base_uri": "https://localhost:8080/"
        },
        "id": "fkzXzq6SmuJp",
        "outputId": "a07fdd7c-4119-41d0-8797-3b16a09291d8"
      },
      "execution_count": 19,
      "outputs": [
        {
          "output_type": "execute_result",
          "data": {
            "text/plain": [
              "torch.Size([13844, 300])"
            ]
          },
          "metadata": {},
          "execution_count": 19
        }
      ]
    },
    {
      "cell_type": "markdown",
      "source": [
        "# 5. Preparing the Dataloader"
      ],
      "metadata": {
        "id": "Kw-Otz1Rm1pl"
      }
    },
    {
      "cell_type": "code",
      "source": [
        "text_pipeline  = lambda x: vocab(tokenizer(x))\n",
        "label_pipeline = lambda x: int(x)"
      ],
      "metadata": {
        "id": "4kG0a55Bm7vL"
      },
      "execution_count": 20,
      "outputs": []
    },
    {
      "cell_type": "code",
      "source": [
        "from torch.utils.data import DataLoader\n",
        "from torch.nn.utils.rnn import pad_sequence #making each batch same length\n",
        "\n",
        "pad_ix = vocab['<pad>']\n",
        "\n",
        "#this function gonna be called by DataLoader\n",
        "def collate_batch(batch):\n",
        "    label_list, text_list, length_list = [], [], []\n",
        "    for (_text, _label) in batch:\n",
        "        label_list.append(label_pipeline(_label))  #[3, 1, 0, 2, ]\n",
        "        processed_text = torch.tensor(text_pipeline(_text), dtype=torch.int64) #[0, 44, 21, 2]\n",
        "        text_list.append(processed_text)\n",
        "        length_list.append(processed_text.size(0)) #for padding\n",
        "        \n",
        "    return torch.tensor(label_list, dtype=torch.int64), \\\n",
        "        pad_sequence(text_list, padding_value=pad_ix, batch_first=True), \\\n",
        "        torch.tensor(length_list, dtype=torch.int64)"
      ],
      "metadata": {
        "id": "q5iB_d-ZqA8g"
      },
      "execution_count": 23,
      "outputs": []
    },
    {
      "cell_type": "code",
      "source": [
        "batch_size = 64\n",
        "\n",
        "train_loader = DataLoader(train, batch_size = batch_size,\n",
        "                          shuffle=True, collate_fn=collate_batch)\n",
        "\n",
        "val_loader   = DataLoader(val, batch_size = batch_size,\n",
        "                          shuffle=True, collate_fn=collate_batch)\n",
        "\n",
        "test_loader  = DataLoader(test, batch_size = batch_size,\n",
        "                          shuffle=True, collate_fn=collate_batch)"
      ],
      "metadata": {
        "id": "UZrXyPL3quZx"
      },
      "execution_count": 24,
      "outputs": []
    },
    {
      "cell_type": "code",
      "source": [
        "for label, text, length in train_loader:\n",
        "    print(\"Label shape:\", label.shape)\n",
        "    print(\"Text shape:\", text.shape)\n",
        "    print(\"Length shape:\", length.shape)\n",
        "    break"
      ],
      "metadata": {
        "colab": {
          "base_uri": "https://localhost:8080/"
        },
        "id": "KQZ0VVzOqybQ",
        "outputId": "c9c0e142-ee2e-424c-e95a-1b822cc1af1f"
      },
      "execution_count": 25,
      "outputs": [
        {
          "output_type": "stream",
          "name": "stdout",
          "text": [
            "Label shape: torch.Size([64])\n",
            "Text shape: torch.Size([64, 31])\n",
            "Length shape: torch.Size([64])\n"
          ]
        }
      ]
    },
    {
      "cell_type": "markdown",
      "source": [
        "# 6. Design the Model"
      ],
      "metadata": {
        "id": "S1FKGXHUq5mf"
      }
    },
    {
      "cell_type": "code",
      "source": [
        "class LSTM(nn.Module):\n",
        "    \n",
        "    def __init__(self, input_dim, emb_dim, hid_dim, output_dim, num_layers, bidirectional, \n",
        "                 dropout):\n",
        "        super().__init__()\n",
        "        #input dim = how many vocab you have\n",
        "        #emb dim = 300 --> we use fasttext\n",
        "        #padding_idx tells this lookup table to ignore, and just randomize....\n",
        "        #<unk>, <bos>, <eos>\n",
        "        self.embedding_layer = nn.Embedding(input_dim, emb_dim, padding_idx=pad_ix)\n",
        "        self.lstm            = nn.LSTM(emb_dim,\n",
        "                                       hid_dim,\n",
        "                                       num_layers = num_layers,\n",
        "                                       bidirectional = bidirectional,\n",
        "                                       dropout = dropout,  #dropout is applied between layers....\n",
        "                                       batch_first=True)\n",
        "        \n",
        "        self.fc              = nn.Linear(hid_dim * 2, output_dim)\n",
        "        \n",
        "    def forward(self, x, lengths):\n",
        "        #x: [batch size, seq len]\n",
        "        \n",
        "        embedded_x = self.embedding_layer(x)\n",
        "        #x: [batch size, seq len, emb dim]\n",
        "        \n",
        "        #pack this embedded_x in such a way that RNN knows to ignore padding....\n",
        "        #without batch_first = True; things will become [seq len, batch size, emb dim]\n",
        "        pack_embedded = nn.utils.rnn.pack_padded_sequence(embedded_x, lengths.to('cpu'),\n",
        "                                                          enforce_sorted=False,\n",
        "                                                          batch_first = True\n",
        "                                                          )\n",
        "        \n",
        "        #packed_outputs is basically all hidden states\n",
        "        #h is the last hidden state\n",
        "        #c is the last cell state\n",
        "        packed_outputs, (h, _) = self.lstm(pack_embedded)\n",
        "        \n",
        "        #h: [num_layers * num_directions, batch_size, hidden dim]\n",
        "        \n",
        "        #it happens that because packed_outputs is all hidden states....some hidden states near the end is\n",
        "        #hidden state for padding, pytorch guys help you\n",
        "        #by using this pad_packed_sequence, then all the hidden states will only be not padding....\n",
        "        output, output_lengths = nn.utils.rnn.pad_packed_sequence(packed_outputs, batch_first = True)\n",
        "        #output: [batch size, seq len, direction * hidden sim]\n",
        "        \n",
        "        #last hidden state - concat last forward and backward states\n",
        "        last_hidden_state = torch.cat((h[-1, :, :], h[-2, :, :]), dim = 1)\n",
        "        #last_hidden_state: [batch_size, hidden_dim * 2]\n",
        "        \n",
        "        #for sentiment analysis.....what should i sent to my linear layer...\n",
        "        return self.fc(last_hidden_state)  #[batch_size, output_dim]==> [batch_size, 4]\n",
        "        "
      ],
      "metadata": {
        "id": "FADu1YkCrAhB"
      },
      "execution_count": 26,
      "outputs": []
    },
    {
      "cell_type": "markdown",
      "source": [
        "# 7. Training"
      ],
      "metadata": {
        "id": "706VQE5Hr7f3"
      }
    },
    {
      "cell_type": "code",
      "source": [
        "#explicitly initialize weights for better learning\n",
        "def initialize_weights(m):\n",
        "    if isinstance(m, nn.Linear):\n",
        "        nn.init.xavier_normal_(m.weight)\n",
        "        nn.init.zeros_(m.bias)\n",
        "    elif isinstance(m, nn.LSTM):\n",
        "        for name, param in m.named_parameters():\n",
        "            if 'bias' in name:\n",
        "                nn.init.zeros_(param)\n",
        "            elif 'weight' in name:\n",
        "                nn.init.orthogonal_(param)"
      ],
      "metadata": {
        "id": "L62CHTFur_3q"
      },
      "execution_count": 27,
      "outputs": []
    },
    {
      "cell_type": "code",
      "source": [
        "input_dim  = len(vocab)\n",
        "hid_dim    = 256\n",
        "emb_dim    = 300\n",
        "output_dim = 2 # two classes\n",
        "\n",
        "#for biLSTM\n",
        "num_layers = 2\n",
        "bidirectional = True\n",
        "dropout = 0.5\n",
        "\n",
        "model = LSTM(input_dim, emb_dim, hid_dim, output_dim, num_layers, bidirectional, dropout).to(device)\n",
        "model.apply(initialize_weights)\n",
        "model.embedding_layer.weight.data = fast_embedding #**<------applied the fast text embedding as the initial weights"
      ],
      "metadata": {
        "id": "KNvlPbhIsF3m"
      },
      "execution_count": 28,
      "outputs": []
    },
    {
      "cell_type": "code",
      "source": [
        "# we can print the complexity by the number of parameters\n",
        "def count_parameters(model):\n",
        "    params = [p.numel() for p in model.parameters() if p.requires_grad]\n",
        "    for item in params:\n",
        "        print(f'{item:>6}')\n",
        "    print(f'______\\n{sum(params):>6}')\n",
        "    \n",
        "count_parameters(model)"
      ],
      "metadata": {
        "colab": {
          "base_uri": "https://localhost:8080/"
        },
        "id": "HIHioJywsIGQ",
        "outputId": "814a312a-28fa-4124-c0a7-33e3d3841af0"
      },
      "execution_count": 29,
      "outputs": [
        {
          "output_type": "stream",
          "name": "stdout",
          "text": [
            "4153200\n",
            "307200\n",
            "262144\n",
            "  1024\n",
            "  1024\n",
            "307200\n",
            "262144\n",
            "  1024\n",
            "  1024\n",
            "524288\n",
            "262144\n",
            "  1024\n",
            "  1024\n",
            "524288\n",
            "262144\n",
            "  1024\n",
            "  1024\n",
            "  1024\n",
            "     2\n",
            "______\n",
            "6873970\n"
          ]
        }
      ]
    },
    {
      "cell_type": "code",
      "source": [
        "import torch.optim as optim\n",
        "\n",
        "lr=1e-3\n",
        "\n",
        "#training hyperparameters\n",
        "optimizer = optim.Adam(model.parameters(), lr=lr)\n",
        "criterion = nn.CrossEntropyLoss() #combine softmax with cross entropy"
      ],
      "metadata": {
        "id": "9NW9r4JdsMwN"
      },
      "execution_count": 30,
      "outputs": []
    },
    {
      "cell_type": "code",
      "source": [
        "def accuracy(preds, y):\n",
        "    \n",
        "    predicted = torch.max(preds.data, 1)[1]\n",
        "    batch_corr = (predicted == y).sum()\n",
        "    acc = batch_corr / len(y)\n",
        "    \n",
        "    return acc"
      ],
      "metadata": {
        "id": "rzd6k7_wsQsR"
      },
      "execution_count": 31,
      "outputs": []
    },
    {
      "cell_type": "code",
      "source": [
        "def train(model, loader, optimizer, criterion, loader_length):\n",
        "    epoch_loss = 0\n",
        "    epoch_acc = 0\n",
        "    model.train() #useful for batchnorm and dropout\n",
        "    \n",
        "    for i, (label, text, text_length) in enumerate(loader): \n",
        "        label = label.to(device) #(batch_size, )\n",
        "        text = text.to(device) #(batch_size, seq len)\n",
        "                \n",
        "        #predict\n",
        "        predictions = model(text, text_length).squeeze(1) #output by the fc is (batch_size, 1), thus need to remove this 1\n",
        "        \n",
        "        #calculate loss\n",
        "        loss = criterion(predictions, label)\n",
        "        acc  = accuracy(predictions, label)\n",
        "        \n",
        "        #backprop\n",
        "        optimizer.zero_grad()\n",
        "        loss.backward()\n",
        "        optimizer.step()\n",
        "        \n",
        "        epoch_loss += loss.item()\n",
        "        epoch_acc += acc.item()\n",
        "                        \n",
        "    return epoch_loss / loader_length, epoch_acc / loader_length"
      ],
      "metadata": {
        "id": "Oakv43M8sSt_"
      },
      "execution_count": 32,
      "outputs": []
    },
    {
      "cell_type": "code",
      "source": [
        "def evaluate(model, loader, criterion, loader_length):\n",
        "    epoch_loss = 0\n",
        "    epoch_acc = 0\n",
        "    model.eval()\n",
        "    \n",
        "    with torch.no_grad():\n",
        "        for i, (label, text, text_length) in enumerate(loader): \n",
        "            label = label.to(device) #(batch_size, )\n",
        "            text  = text.to(device)  #(seq len, batch_size)\n",
        "\n",
        "            predictions = model(text, text_length).squeeze(1) \n",
        "            \n",
        "            loss = criterion(predictions, label)\n",
        "            acc  = accuracy(predictions, label)\n",
        "\n",
        "            epoch_loss += loss.item()\n",
        "            epoch_acc += acc.item()\n",
        "        \n",
        "    return epoch_loss / loader_length, epoch_acc / loader_length"
      ],
      "metadata": {
        "id": "FLDUt9oLsXtp"
      },
      "execution_count": 33,
      "outputs": []
    },
    {
      "cell_type": "markdown",
      "source": [
        "## Puttig everything together"
      ],
      "metadata": {
        "id": "ufK2o4I_sZvr"
      }
    },
    {
      "cell_type": "code",
      "source": [
        "train_loader_length = len(list(iter(train_loader)))\n",
        "val_loader_length   = len(list(iter(val_loader)))\n",
        "test_loader_length  = len(list(iter(test_loader)))"
      ],
      "metadata": {
        "id": "F4xPVrSrsehl"
      },
      "execution_count": 34,
      "outputs": []
    },
    {
      "cell_type": "code",
      "source": [
        "def epoch_time(start_time, end_time):\n",
        "    elapsed_time = end_time - start_time\n",
        "    elapsed_mins = int(elapsed_time / 60)\n",
        "    elapsed_secs = int(elapsed_time - (elapsed_mins * 60))\n",
        "    return elapsed_mins, elapsed_secs"
      ],
      "metadata": {
        "id": "XANYPIYLsh0F"
      },
      "execution_count": 35,
      "outputs": []
    },
    {
      "cell_type": "code",
      "source": [
        "best_valid_loss = float('inf')\n",
        "num_epochs      = 10\n",
        "\n",
        "save_path = f'{model.__class__.__name__}.pt'\n",
        "\n",
        "train_losses = []\n",
        "train_accs = []\n",
        "valid_losses = []\n",
        "valid_accs = []\n",
        "\n",
        "for epoch in range(num_epochs):\n",
        "    \n",
        "    start_time = time.time()\n",
        "\n",
        "    train_loss, train_acc = train(model, train_loader, optimizer, criterion, train_loader_length)\n",
        "    valid_loss, valid_acc = evaluate(model, val_loader, criterion, val_loader_length)\n",
        "    \n",
        "    #for plotting\n",
        "    train_losses.append(train_loss)\n",
        "    train_accs.append(train_acc)\n",
        "    valid_losses.append(valid_loss)\n",
        "    valid_accs.append(valid_acc)\n",
        "    \n",
        "    end_time = time.time()\n",
        "    \n",
        "    epoch_mins, epoch_secs = epoch_time(start_time, end_time)\n",
        "    \n",
        "    if valid_loss < best_valid_loss:\n",
        "        best_valid_loss = valid_loss\n",
        "        torch.save(model.state_dict(), save_path)\n",
        "    \n",
        "    print(f'Epoch: {epoch+1:02} | Time: {epoch_mins}m {epoch_secs}s')\n",
        "    print(f'\\tTrain Loss: {train_loss:.3f} | Train Acc: {train_acc*100:.2f}%')\n",
        "    print(f'\\t Val. Loss: {valid_loss:.3f} |  Val. Acc: {valid_acc*100:.2f}%')"
      ],
      "metadata": {
        "colab": {
          "base_uri": "https://localhost:8080/"
        },
        "id": "Ls5N7tTUslmK",
        "outputId": "7da2dbb5-ce0b-454e-ecee-f393664af893"
      },
      "execution_count": 36,
      "outputs": [
        {
          "output_type": "stream",
          "name": "stdout",
          "text": [
            "Epoch: 01 | Time: 0m 19s\n",
            "\tTrain Loss: 0.318 | Train Acc: 86.29%\n",
            "\t Val. Loss: 0.158 |  Val. Acc: 94.41%\n",
            "Epoch: 02 | Time: 0m 20s\n",
            "\tTrain Loss: 0.163 | Train Acc: 93.88%\n",
            "\t Val. Loss: 0.086 |  Val. Acc: 97.04%\n",
            "Epoch: 03 | Time: 0m 18s\n",
            "\tTrain Loss: 0.110 | Train Acc: 95.93%\n",
            "\t Val. Loss: 0.063 |  Val. Acc: 97.77%\n",
            "Epoch: 04 | Time: 0m 18s\n",
            "\tTrain Loss: 0.080 | Train Acc: 97.00%\n",
            "\t Val. Loss: 0.047 |  Val. Acc: 98.39%\n",
            "Epoch: 05 | Time: 0m 19s\n",
            "\tTrain Loss: 0.062 | Train Acc: 97.64%\n",
            "\t Val. Loss: 0.035 |  Val. Acc: 98.76%\n",
            "Epoch: 06 | Time: 0m 18s\n",
            "\tTrain Loss: 0.050 | Train Acc: 98.04%\n",
            "\t Val. Loss: 0.035 |  Val. Acc: 98.70%\n",
            "Epoch: 07 | Time: 0m 18s\n",
            "\tTrain Loss: 0.042 | Train Acc: 98.34%\n",
            "\t Val. Loss: 0.024 |  Val. Acc: 99.12%\n",
            "Epoch: 08 | Time: 0m 19s\n",
            "\tTrain Loss: 0.034 | Train Acc: 98.64%\n",
            "\t Val. Loss: 0.017 |  Val. Acc: 99.54%\n",
            "Epoch: 09 | Time: 0m 18s\n",
            "\tTrain Loss: 0.028 | Train Acc: 98.96%\n",
            "\t Val. Loss: 0.016 |  Val. Acc: 99.41%\n",
            "Epoch: 10 | Time: 0m 18s\n",
            "\tTrain Loss: 0.023 | Train Acc: 99.09%\n",
            "\t Val. Loss: 0.013 |  Val. Acc: 99.47%\n"
          ]
        }
      ]
    },
    {
      "cell_type": "code",
      "source": [
        "import matplotlib.pyplot as plt\n",
        "fig = plt.figure(figsize=(10, 6))\n",
        "ax = fig.add_subplot(1, 1, 1)\n",
        "ax.plot(train_losses, label = 'train loss')\n",
        "ax.plot(valid_losses, label = 'valid loss')\n",
        "plt.legend()\n",
        "ax.set_xlabel('updates')\n",
        "ax.set_ylabel('loss')\n",
        "plt.title('Loss plot')"
      ],
      "metadata": {
        "colab": {
          "base_uri": "https://localhost:8080/",
          "height": 421
        },
        "id": "Jobs7f_psuYg",
        "outputId": "1c7593a0-78ff-43b9-d64c-35fb7760260a"
      },
      "execution_count": 38,
      "outputs": [
        {
          "output_type": "execute_result",
          "data": {
            "text/plain": [
              "Text(0.5, 1.0, 'Loss plot')"
            ]
          },
          "metadata": {},
          "execution_count": 38
        },
        {
          "output_type": "display_data",
          "data": {
            "text/plain": [
              "<Figure size 720x432 with 1 Axes>"
            ],
            "image/png": "[encoded data removed]"
          },
          "metadata": {
            "needs_background": "light"
          }
        }
      ]
    },
    {
      "cell_type": "code",
      "source": [
        "fig = plt.figure(figsize=(10, 6))\n",
        "ax = fig.add_subplot(1, 1, 1)\n",
        "ax.plot(train_accs, label = 'train acc')\n",
        "ax.plot(valid_accs, label = 'valid acc')\n",
        "plt.legend()\n",
        "ax.set_xlabel('updates')\n",
        "ax.set_ylabel('acc')\n",
        "plt.title('Accuracy plot')"
      ],
      "metadata": {
        "colab": {
          "base_uri": "https://localhost:8080/",
          "height": 421
        },
        "id": "W2uoCk39tjOZ",
        "outputId": "9705b150-bf2b-4123-ce29-ae64f1b232e6"
      },
      "execution_count": 39,
      "outputs": [
        {
          "output_type": "execute_result",
          "data": {
            "text/plain": [
              "Text(0.5, 1.0, 'Accuracy plot')"
            ]
          },
          "metadata": {},
          "execution_count": 39
        },
        {
          "output_type": "display_data",
          "data": {
            "text/plain": [
              "<Figure size 720x432 with 1 Axes>"
            ],
            "image/png": "[encoded data removed]"
          },
          "metadata": {
            "needs_background": "light"
          }
        }
      ]
    },
    {
      "cell_type": "code",
      "source": [
        "model.load_state_dict(torch.load(save_path))\n",
        "\n",
        "test_loss, test_acc = evaluate(model, test_loader, criterion, test_loader_length)\n",
        "\n",
        "print(f'Test Loss: {test_loss:.3f} | Test Acc: {test_acc*100:.2f}%')"
      ],
      "metadata": {
        "colab": {
          "base_uri": "https://localhost:8080/"
        },
        "id": "MdahZGrmtz2O",
        "outputId": "ddee2234-9627-44f5-a7c8-bb1e5b4ca7a0"
      },
      "execution_count": 40,
      "outputs": [
        {
          "output_type": "stream",
          "name": "stdout",
          "text": [
            "Test Loss: 1.294 | Test Acc: 79.58%\n"
          ]
        }
      ]
    },
    {
      "cell_type": "markdown",
      "source": [
        "# 8. Test on some random news"
      ],
      "metadata": {
        "id": "B_Klf9vNt6IM"
      }
    },
    {
      "cell_type": "code",
      "source": [
        "test_str = \"Google is now falling nonstop.  The price is really bad now.\"\n",
        "text = torch.tensor(text_pipeline(test_str)).to(device)\n",
        "text"
      ],
      "metadata": {
        "colab": {
          "base_uri": "https://localhost:8080/"
        },
        "id": "O99RvOoluA8C",
        "outputId": "0a2ac6d2-c091-4637-ff0b-faad8c1e4010"
      },
      "execution_count": 41,
      "outputs": [
        {
          "output_type": "execute_result",
          "data": {
            "text/plain": [
              "tensor([   0,   13,  585, 4070, 4369,    9,    0,    0, 1521,   13,  117,   77,\n",
              "         585,    9], device='cuda:0')"
            ]
          },
          "metadata": {},
          "execution_count": 41
        }
      ]
    },
    {
      "cell_type": "code",
      "source": [
        "text_list = [x.item() for x in text]\n",
        "text_list"
      ],
      "metadata": {
        "colab": {
          "base_uri": "https://localhost:8080/"
        },
        "id": "YsqAed_AuEl0",
        "outputId": "b8c32e78-aaad-49f7-accd-da3cbe702707"
      },
      "execution_count": 42,
      "outputs": [
        {
          "output_type": "execute_result",
          "data": {
            "text/plain": [
              "[0, 13, 585, 4070, 4369, 9, 0, 0, 1521, 13, 117, 77, 585, 9]"
            ]
          },
          "metadata": {},
          "execution_count": 42
        }
      ]
    },
    {
      "cell_type": "code",
      "source": [
        "text = text.reshape(1, -1)  #because batch_size is 1"
      ],
      "metadata": {
        "id": "9uwH2EvOuIFu"
      },
      "execution_count": 43,
      "outputs": []
    },
    {
      "cell_type": "code",
      "source": [
        "text_length = torch.tensor([text.size(1)]).to(dtype=torch.int64)"
      ],
      "metadata": {
        "id": "GuBPeE5ruMLo"
      },
      "execution_count": 44,
      "outputs": []
    },
    {
      "cell_type": "code",
      "source": [
        "text.shape"
      ],
      "metadata": {
        "colab": {
          "base_uri": "https://localhost:8080/"
        },
        "id": "RH-0H39-uOrK",
        "outputId": "7c55b0e4-7d01-4f6c-cdd8-f90917f40b81"
      },
      "execution_count": 45,
      "outputs": [
        {
          "output_type": "execute_result",
          "data": {
            "text/plain": [
              "torch.Size([1, 14])"
            ]
          },
          "metadata": {},
          "execution_count": 45
        }
      ]
    },
    {
      "cell_type": "code",
      "source": [
        "def predict(text, text_length):\n",
        "    with torch.no_grad():\n",
        "        output = model(text, text_length).squeeze(1)\n",
        "        predicted = torch.max(output.data, 1)[1]\n",
        "        return predicted"
      ],
      "metadata": {
        "id": "YYiIVg1UuQCH"
      },
      "execution_count": 46,
      "outputs": []
    },
    {
      "cell_type": "code",
      "source": [
        "predict(text, text_length)"
      ],
      "metadata": {
        "colab": {
          "base_uri": "https://localhost:8080/"
        },
        "id": "oSmB9DrxuTO3",
        "outputId": "3a9f297e-407a-4fea-82ad-a3687d14f256"
      },
      "execution_count": 47,
      "outputs": [
        {
          "output_type": "execute_result",
          "data": {
            "text/plain": [
              "tensor([0], device='cuda:0')"
            ]
          },
          "metadata": {},
          "execution_count": 47
        }
      ]
    },
    {
      "cell_type": "markdown",
      "source": [
        "# 9.1 Negative Negative Sentence Test"
      ],
      "metadata": {
        "id": "XCDt9sgfuWAI"
      }
    },
    {
      "cell_type": "code",
      "source": [
        "\n",
        "test_str = \"Action was not bad.\"\n",
        "text = torch.tensor(text_pipeline(test_str)).to(device)\n",
        "text_list = [x.item() for x in text]\n",
        "text = text.reshape(1, -1)  #because batch_size is 1\n",
        "text_length = torch.tensor([text.size(1)]).to(dtype=torch.int64)"
      ],
      "metadata": {
        "id": "Imado8C4uk5g"
      },
      "execution_count": 48,
      "outputs": []
    },
    {
      "cell_type": "code",
      "source": [
        "def predict(text, text_length):\n",
        "    with torch.no_grad():\n",
        "        output = model(text, text_length).squeeze(1)\n",
        "        predicted = torch.max(output.data, 1)[1]\n",
        "        return predicted"
      ],
      "metadata": {
        "id": "GC1bgJnau_3a"
      },
      "execution_count": 49,
      "outputs": []
    },
    {
      "cell_type": "code",
      "source": [
        "predict(text, text_length)"
      ],
      "metadata": {
        "colab": {
          "base_uri": "https://localhost:8080/"
        },
        "id": "8qJFi_g1vCtd",
        "outputId": "054d5b30-74b6-4920-982a-4af97e159b07"
      },
      "execution_count": 50,
      "outputs": [
        {
          "output_type": "execute_result",
          "data": {
            "text/plain": [
              "tensor([1], device='cuda:0')"
            ]
          },
          "metadata": {},
          "execution_count": 50
        }
      ]
    },
    {
      "cell_type": "code",
      "source": [
        "test_str = \"The actors didn't perform bad.\"\n",
        "text = torch.tensor(text_pipeline(test_str)).to(device)\n",
        "text_list = [x.item() for x in text]\n",
        "text = text.reshape(1, -1)  #because batch_size is 1\n",
        "text_length = torch.tensor([text.size(1)]).to(dtype=torch.int64)"
      ],
      "metadata": {
        "id": "b5VfdF7VvEjL"
      },
      "execution_count": 51,
      "outputs": []
    },
    {
      "cell_type": "code",
      "source": [
        "predict(text, text_length)"
      ],
      "metadata": {
        "colab": {
          "base_uri": "https://localhost:8080/"
        },
        "id": "pK6IlZI7vaq_",
        "outputId": "43df53ca-112f-4eea-f1ce-d8e46009e0af"
      },
      "execution_count": 52,
      "outputs": [
        {
          "output_type": "execute_result",
          "data": {
            "text/plain": [
              "tensor([1], device='cuda:0')"
            ]
          },
          "metadata": {},
          "execution_count": 52
        }
      ]
    },
    {
      "cell_type": "markdown",
      "source": [
        "# 9.2 Negative Positive Sentence Test"
      ],
      "metadata": {
        "id": "ANtC1HQtveo9"
      }
    },
    {
      "cell_type": "code",
      "source": [
        "test_str = \"The actors didn't perform well.\"\n",
        "text = torch.tensor(text_pipeline(test_str)).to(device)\n",
        "text_list = [x.item() for x in text]\n",
        "text = text.reshape(1, -1)  #because batch_size is 1\n",
        "text_length = torch.tensor([text.size(1)]).to(dtype=torch.int64)"
      ],
      "metadata": {
        "id": "51b0fGK6vmRb"
      },
      "execution_count": 53,
      "outputs": []
    },
    {
      "cell_type": "code",
      "source": [
        "predict(text, text_length)"
      ],
      "metadata": {
        "colab": {
          "base_uri": "https://localhost:8080/"
        },
        "id": "fuTSmPkPvyl3",
        "outputId": "e7161568-9b79-455f-a2d8-e2189923af9e"
      },
      "execution_count": 54,
      "outputs": [
        {
          "output_type": "execute_result",
          "data": {
            "text/plain": [
              "tensor([0], device='cuda:0')"
            ]
          },
          "metadata": {},
          "execution_count": 54
        }
      ]
    },
    {
      "cell_type": "markdown",
      "source": [
        "# Overview"
      ],
      "metadata": {
        "id": "8nXbfrR4v0v1"
      }
    },
    {
      "cell_type": "markdown",
      "source": [
        "The model's accuracy is almost 100%. Although for the negative-negative sentence test the model predicted wrong for the 2nd example."
      ],
      "metadata": {
        "id": "Bdnm7-pFv_eq"
      }
    },
    {
      "cell_type": "code",
      "source": [],
      "metadata": {
        "id": "BF5mon8vwMCJ"
      },
      "execution_count": null,
      "outputs": []
    }
  ]
}